{
 "cells": [
  {
   "cell_type": "code",
   "execution_count": 125,
   "metadata": {},
   "outputs": [],
   "source": [
    "#找出函數的最小值\n",
    "%matplotlib inline\n",
    "import numpy as np\n",
    "import matplotlib.pyplot as plt\n",
    "import random"
   ]
  },
  {
   "cell_type": "markdown",
   "metadata": {},
   "source": [
    "<font size=4>設定Loss Funcion為$x^4 + x^3 - 3*x^2$<br>\n",
    "Eta是我每次要走的距離<br>\n",
    "def find_y可以算出我的y值；diff_y可以算出我的微分值</font>"
   ]
  },
  {
   "cell_type": "code",
   "execution_count": 126,
   "metadata": {},
   "outputs": [],
   "source": [
    "x = np.linspace(-2, 2, 100)\n",
    "y = x**4 + x**3 - 3*x**2 #My Loss Function\n",
    "\n",
    "η=0.05\n",
    "\n",
    "def find_y(in_x):\n",
    "    return in_x**4 + in_x**3 - 3*in_x**2\n",
    "\n",
    "def diff_y(in_x):\n",
    "    return 4*in_x**3 + 3*in_x**2 - 6*in_x"
   ]
  },
  {
   "cell_type": "markdown",
   "metadata": {},
   "source": [
    "<font size=4>取起始點</font>"
   ]
  },
  {
   "cell_type": "code",
   "execution_count": 127,
   "metadata": {},
   "outputs": [],
   "source": [
    "start_x = random.uniform(-2.0, 2.0)\n",
    "start_y = find_y(start_x)"
   ]
  },
  {
   "cell_type": "code",
   "execution_count": 128,
   "metadata": {},
   "outputs": [
    {
     "data": {
      "text/plain": [
       "[<matplotlib.lines.Line2D at 0x58cb1f0358>]"
      ]
     },
     "execution_count": 128,
     "metadata": {},
     "output_type": "execute_result"
    },
    {
     "data": {
      "image/png": "[encoded data removed]",
      "text/plain": [
       "<Figure size 432x288 with 1 Axes>"
      ]
     },
     "metadata": {},
     "output_type": "display_data"
    }
   ],
   "source": [
    "plt.plot(x, y)\n",
    "plt.title('My Loss Function')\n",
    "plt.plot(start_x, start_y, 'ro')"
   ]
  },
  {
   "cell_type": "markdown",
   "metadata": {},
   "source": [
    "<font size=4>now_x, now_y 是我目前走到的位置，all_x, all_y存放我走過的所有座標</font>"
   ]
  },
  {
   "cell_type": "code",
   "execution_count": 129,
   "metadata": {},
   "outputs": [],
   "source": [
    "now_x = float(start_x)\n",
    "now_y = float(start_y)\n",
    "\n",
    "all_x = []\n",
    "all_y = []\n",
    "\n",
    "egg = diff_y(now_x)\n",
    "ham = find_y(now_x)"
   ]
  },
  {
   "cell_type": "markdown",
   "metadata": {},
   "source": [
    "<font size=4>若微分等於零→可能是最高點或最低點<br>\n",
    "先走一點點，若下一個點比我大，可見我是最低點，跳出迴圈<br>\n",
    "若微分小於零→代表是下坡→若上一個點的微分也小於0→沒走過頭，要往右走<br>\n",
    "若微分大於零→代表是上坡→若上一個點的微分也大於0→沒走過頭，要往左走</font>"
   ]
  },
  {
   "cell_type": "code",
   "execution_count": 130,
   "metadata": {},
   "outputs": [],
   "source": [
    "for i in range(100):\n",
    "    all_x.append(now_x)\n",
    "    all_y.append(now_y)\n",
    "    if diff_y(now_x) == 0:\n",
    "        egg = diff_y(now_x)\n",
    "        ham = find_y(now_x)\n",
    "        now_x = now_x + η\n",
    "        now_y = find_y(now_x)\n",
    "        if now_y > ham:\n",
    "            break\n",
    "    elif diff_y(now_x) < 0:\n",
    "        if egg < 0:\n",
    "            egg = diff_y(now_x)\n",
    "            ham = find_y(now_x)\n",
    "            now_x = now_x + η\n",
    "            now_y = find_y(now_x)\n",
    "        else:\n",
    "            break\n",
    "    elif diff_y(now_x) > 0:\n",
    "        if egg > 0:\n",
    "            egg = diff_y(now_x)\n",
    "            ham = find_y(now_x)\n",
    "            now_x = now_x - η\n",
    "            now_y = find_y(now_x)\n",
    "        else:\n",
    "            break"
   ]
  },
  {
   "cell_type": "code",
   "execution_count": 131,
   "metadata": {},
   "outputs": [
    {
     "data": {
      "text/plain": [
       "[-0.20095256009620455,\n",
       " -0.25095256009620454,\n",
       " -0.3009525600962045,\n",
       " -0.3509525600962045,\n",
       " -0.4009525600962045,\n",
       " -0.4509525600962045,\n",
       " -0.5009525600962045,\n",
       " -0.5509525600962045,\n",
       " -0.6009525600962046,\n",
       " -0.6509525600962046,\n",
       " -0.7009525600962047,\n",
       " -0.7509525600962047,\n",
       " -0.8009525600962047,\n",
       " -0.8509525600962048,\n",
       " -0.9009525600962048,\n",
       " -0.9509525600962049,\n",
       " -1.0009525600962048,\n",
       " -1.0509525600962049,\n",
       " -1.100952560096205,\n",
       " -1.150952560096205,\n",
       " -1.200952560096205,\n",
       " -1.250952560096205,\n",
       " -1.300952560096205,\n",
       " -1.3509525600962051,\n",
       " -1.4009525600962052,\n",
       " -1.4509525600962052,\n",
       " -1.5009525600962053,\n",
       " -1.5509525600962053,\n",
       " -1.6009525600962053,\n",
       " -1.6509525600962054,\n",
       " -1.7009525600962054]"
      ]
     },
     "execution_count": 131,
     "metadata": {},
     "output_type": "execute_result"
    }
   ],
   "source": [
    "all_x"
   ]
  },
  {
   "cell_type": "code",
   "execution_count": 132,
   "metadata": {},
   "outputs": [
    {
     "data": {
      "text/plain": [
       "[-0.12762994634162908,\n",
       " -0.20076972253174602,\n",
       " -0.2907719715007408,\n",
       " -0.39755883556832494,\n",
       " -0.5209024570542097,\n",
       " -0.6604249782781064,\n",
       " -0.8155985415597268,\n",
       " -0.9857452892187819,\n",
       " -1.1700373635749834,\n",
       " -1.3674969069480425,\n",
       " -1.5769960616576706,\n",
       " -1.7972569700235792,\n",
       " -2.0268517743654795,\n",
       " -2.2642026170030833,\n",
       " -2.5075816402561006,\n",
       " -2.7551109864442447,\n",
       " -3.004762797887226,\n",
       " -3.2543592169047546,\n",
       " -3.5015723858165453,\n",
       " -3.7439244469423065,\n",
       " -3.97878754260175,\n",
       " -4.203383815114589,\n",
       " -4.414785406800532,\n",
       " -4.609914459979294,\n",
       " -4.785543116970582,\n",
       " -4.938293520094111,\n",
       " -5.064637811669591,\n",
       " -5.160898134016733,\n",
       " -5.223246629455251,\n",
       " -5.247705440304853,\n",
       " -5.23014670888525]"
      ]
     },
     "execution_count": 132,
     "metadata": {},
     "output_type": "execute_result"
    }
   ],
   "source": [
    "all_y"
   ]
  },
  {
   "cell_type": "code",
   "execution_count": 133,
   "metadata": {},
   "outputs": [
    {
     "data": {
      "text/plain": [
       "[<matplotlib.lines.Line2D at 0x58cb251940>]"
      ]
     },
     "execution_count": 133,
     "metadata": {},
     "output_type": "execute_result"
    },
    {
     "data": {
      "image/png": "[encoded data removed]",
      "text/plain": [
       "<Figure size 432x288 with 1 Axes>"
      ]
     },
     "metadata": {},
     "output_type": "display_data"
    }
   ],
   "source": [
    "plt.plot(x, y)\n",
    "plt.title('My Loss Function')\n",
    "plt.plot(all_x, all_y, 'ro')\n",
    "plt.plot(start_x, start_y, 'yo')"
   ]
  },
  {
   "cell_type": "code",
   "execution_count": null,
   "metadata": {},
   "outputs": [],
   "source": []
  }
 ],
 "metadata": {
  "kernelspec": {
   "display_name": "Python 3",
   "language": "python",
   "name": "python3"
  },
  "language_info": {
   "codemirror_mode": {
    "name": "ipython",
    "version": 3
   },
   "file_extension": ".py",
   "mimetype": "text/x-python",
   "name": "python",
   "nbconvert_exporter": "python",
   "pygments_lexer": "ipython3",
   "version": "3.6.5"
  }
 },
 "nbformat": 4,
 "nbformat_minor": 2
}
