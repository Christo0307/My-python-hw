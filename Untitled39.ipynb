{
 "cells": [
  {
   "cell_type": "code",
   "execution_count": 1,
   "metadata": {},
   "outputs": [],
   "source": [
    "#作業，把各種嘗試都納進來\n",
    "%matplotlib inline\n",
    "import numpy as np\n",
    "import matplotlib.pyplot as plt"
   ]
  },
  {
   "cell_type": "code",
   "execution_count": 2,
   "metadata": {},
   "outputs": [
    {
     "name": "stderr",
     "output_type": "stream",
     "text": [
      "Using TensorFlow backend.\n"
     ]
    }
   ],
   "source": [
    "from keras.datasets import mnist\n",
    "(x_train, y_train), (x_test, y_test) = mnist.load_data()"
   ]
  },
  {
   "cell_type": "code",
   "execution_count": 3,
   "metadata": {},
   "outputs": [],
   "source": [
    "#把矩陣拉平\n",
    "x_train = x_train.reshape(60000, 784)\n",
    "x_test = x_test.reshape(10000, 784)"
   ]
  },
  {
   "cell_type": "code",
   "execution_count": 4,
   "metadata": {},
   "outputs": [],
   "source": [
    "from keras.utils import np_utils\n",
    "#把正確答案轉成矩陣型式\n",
    "y_train = np_utils.to_categorical(y_train, 10)\n",
    "y_test = np_utils.to_categorical(y_test, 10)"
   ]
  },
  {
   "cell_type": "code",
   "execution_count": 5,
   "metadata": {},
   "outputs": [],
   "source": [
    "from keras.models import Sequential #有Sequential或functional api兩種神經網路\n",
    "from keras.layers import Dense, Activation #Dense是Fully connected的。Activation是設定激活函數用的。\n",
    "from keras.optimizers import SGD #把資料隨機打散用的"
   ]
  },
  {
   "cell_type": "markdown",
   "metadata": {},
   "source": [
    "<font size=4 color=red>先用老師的範例跑跑看，acc不到兩成</font>"
   ]
  },
  {
   "cell_type": "code",
   "execution_count": 6,
   "metadata": {},
   "outputs": [
    {
     "name": "stdout",
     "output_type": "stream",
     "text": [
      "_________________________________________________________________\n",
      "Layer (type)                 Output Shape              Param #   \n",
      "=================================================================\n",
      "dense_1 (Dense)              (None, 4)                 3140      \n",
      "_________________________________________________________________\n",
      "activation_1 (Activation)    (None, 4)                 0         \n",
      "_________________________________________________________________\n",
      "dense_2 (Dense)              (None, 2)                 10        \n",
      "_________________________________________________________________\n",
      "activation_2 (Activation)    (None, 2)                 0         \n",
      "_________________________________________________________________\n",
      "dense_3 (Dense)              (None, 10)                30        \n",
      "_________________________________________________________________\n",
      "activation_3 (Activation)    (None, 10)                0         \n",
      "=================================================================\n",
      "Total params: 3,180\n",
      "Trainable params: 3,180\n",
      "Non-trainable params: 0\n",
      "_________________________________________________________________\n"
     ]
    }
   ],
   "source": [
    "model = Sequential()\n",
    "model.add(Dense(4, input_dim=784)) #第一層，有4個神經元，輸入域有784個\n",
    "model.add(Activation('sigmoid'))\n",
    "model.add(Dense(2)) #第二層，有2個神經元，輸入域有784個\n",
    "model.add(Activation('sigmoid'))\n",
    "model.add(Dense(10)) #輸出層，有10維\n",
    "model.add(Activation('softmax'))\n",
    "model.compile(loss='mse', optimizer=SGD(lr=0.087), metrics=['accuracy']) #設定loss function，設定最佳化，設定顯示正確率\n",
    "model.summary()"
   ]
  },
  {
   "cell_type": "code",
   "execution_count": 7,
   "metadata": {},
   "outputs": [
    {
     "name": "stdout",
     "output_type": "stream",
     "text": [
      "Epoch 1/20\n",
      "60000/60000 [==============================] - 1s 17us/step - loss: 0.0905 - acc: 0.1124\n",
      "Epoch 2/20\n",
      "60000/60000 [==============================] - 1s 15us/step - loss: 0.0900 - acc: 0.1124\n",
      "Epoch 3/20\n",
      "60000/60000 [==============================] - 1s 14us/step - loss: 0.0895 - acc: 0.1124\n",
      "Epoch 4/20\n",
      "60000/60000 [==============================] - 1s 14us/step - loss: 0.0892 - acc: 0.1124\n",
      "Epoch 5/20\n",
      "60000/60000 [==============================] - 1s 14us/step - loss: 0.0889 - acc: 0.1583\n",
      "Epoch 6/20\n",
      "60000/60000 [==============================] - 1s 14us/step - loss: 0.0887 - acc: 0.1755\n",
      "Epoch 7/20\n",
      "60000/60000 [==============================] - 1s 14us/step - loss: 0.0886 - acc: 0.1819\n",
      "Epoch 8/20\n",
      "60000/60000 [==============================] - 1s 14us/step - loss: 0.0884 - acc: 0.1879\n",
      "Epoch 9/20\n",
      "60000/60000 [==============================] - 1s 14us/step - loss: 0.0882 - acc: 0.2036\n",
      "Epoch 10/20\n",
      "60000/60000 [==============================] - 1s 14us/step - loss: 0.0881 - acc: 0.2066\n",
      "Epoch 11/20\n",
      "60000/60000 [==============================] - 1s 14us/step - loss: 0.0879 - acc: 0.2077\n",
      "Epoch 12/20\n",
      "60000/60000 [==============================] - 1s 14us/step - loss: 0.0877 - acc: 0.2103\n",
      "Epoch 13/20\n",
      "60000/60000 [==============================] - 1s 14us/step - loss: 0.0875 - acc: 0.2119\n",
      "Epoch 14/20\n",
      "60000/60000 [==============================] - 1s 14us/step - loss: 0.0873 - acc: 0.2133\n",
      "Epoch 15/20\n",
      "60000/60000 [==============================] - 1s 15us/step - loss: 0.0871 - acc: 0.2127\n",
      "Epoch 16/20\n",
      "60000/60000 [==============================] - 1s 15us/step - loss: 0.0868 - acc: 0.2148\n",
      "Epoch 17/20\n",
      "60000/60000 [==============================] - 1s 15us/step - loss: 0.0866 - acc: 0.2154\n",
      "Epoch 18/20\n",
      "60000/60000 [==============================] - 1s 16us/step - loss: 0.0864 - acc: 0.2147\n",
      "Epoch 19/20\n",
      "60000/60000 [==============================] - 1s 15us/step - loss: 0.0861 - acc: 0.2138\n",
      "Epoch 20/20\n",
      "60000/60000 [==============================] - 1s 14us/step - loss: 0.0858 - acc: 0.2137\n"
     ]
    },
    {
     "data": {
      "text/plain": [
       "<keras.callbacks.History at 0x4d22781780>"
      ]
     },
     "execution_count": 7,
     "metadata": {},
     "output_type": "execute_result"
    }
   ],
   "source": [
    "model.fit(x_train, y_train, batch_size=100, epochs=20) #batch_size代表看完100筆資料，就調一次參數"
   ]
  },
  {
   "cell_type": "markdown",
   "metadata": {},
   "source": [
    "<font size=4 color=red>試著更改神經元數為質數看看(好像有點用，但不明顯)</font>"
   ]
  },
  {
   "cell_type": "code",
   "execution_count": 8,
   "metadata": {},
   "outputs": [
    {
     "name": "stdout",
     "output_type": "stream",
     "text": [
      "_________________________________________________________________\n",
      "Layer (type)                 Output Shape              Param #   \n",
      "=================================================================\n",
      "dense_4 (Dense)              (None, 5)                 3925      \n",
      "_________________________________________________________________\n",
      "activation_4 (Activation)    (None, 5)                 0         \n",
      "_________________________________________________________________\n",
      "dense_5 (Dense)              (None, 7)                 42        \n",
      "_________________________________________________________________\n",
      "activation_5 (Activation)    (None, 7)                 0         \n",
      "_________________________________________________________________\n",
      "dense_6 (Dense)              (None, 10)                80        \n",
      "_________________________________________________________________\n",
      "activation_6 (Activation)    (None, 10)                0         \n",
      "=================================================================\n",
      "Total params: 4,047\n",
      "Trainable params: 4,047\n",
      "Non-trainable params: 0\n",
      "_________________________________________________________________\n"
     ]
    }
   ],
   "source": [
    "model2 = Sequential()\n",
    "model2.add(Dense(5, input_dim=784)) #第一層，有5個神經元，輸入域有784個\n",
    "model2.add(Activation('sigmoid'))\n",
    "model2.add(Dense(7)) #第二層，有7個神經元，輸入域有784個\n",
    "model2.add(Activation('sigmoid'))\n",
    "model2.add(Dense(10)) #輸出層，有10維\n",
    "model2.add(Activation('softmax'))\n",
    "model2.compile(loss='mse', optimizer=SGD(lr=0.087), metrics=['accuracy']) #設定loss function，設定最佳化，設定顯示正確率\n",
    "model2.summary()"
   ]
  },
  {
   "cell_type": "code",
   "execution_count": 9,
   "metadata": {},
   "outputs": [
    {
     "name": "stdout",
     "output_type": "stream",
     "text": [
      "Epoch 1/20\n",
      "60000/60000 [==============================] - 1s 17us/step - loss: 0.0902 - acc: 0.1657\n",
      "Epoch 2/20\n",
      "60000/60000 [==============================] - 1s 15us/step - loss: 0.0897 - acc: 0.2213\n",
      "Epoch 3/20\n",
      "60000/60000 [==============================] - 1s 16us/step - loss: 0.0894 - acc: 0.2236\n",
      "Epoch 4/20\n",
      "60000/60000 [==============================] - 1s 15us/step - loss: 0.0892 - acc: 0.2011\n",
      "Epoch 5/20\n",
      "60000/60000 [==============================] - 1s 15us/step - loss: 0.0889 - acc: 0.2004\n",
      "Epoch 6/20\n",
      "60000/60000 [==============================] - 1s 15us/step - loss: 0.0887 - acc: 0.2008\n",
      "Epoch 7/20\n",
      "60000/60000 [==============================] - 1s 15us/step - loss: 0.0884 - acc: 0.2012\n",
      "Epoch 8/20\n",
      "60000/60000 [==============================] - 1s 16us/step - loss: 0.0881 - acc: 0.1999\n",
      "Epoch 9/20\n",
      "60000/60000 [==============================] - 1s 15us/step - loss: 0.0878 - acc: 0.2001\n",
      "Epoch 10/20\n",
      "60000/60000 [==============================] - 1s 15us/step - loss: 0.0874 - acc: 0.2004\n",
      "Epoch 11/20\n",
      "60000/60000 [==============================] - 1s 15us/step - loss: 0.0871 - acc: 0.1961\n",
      "Epoch 12/20\n",
      "60000/60000 [==============================] - 1s 16us/step - loss: 0.0867 - acc: 0.2058\n",
      "Epoch 13/20\n",
      "60000/60000 [==============================] - 1s 17us/step - loss: 0.0862 - acc: 0.2241\n",
      "Epoch 14/20\n",
      "60000/60000 [==============================] - 1s 15us/step - loss: 0.0858 - acc: 0.2272\n",
      "Epoch 15/20\n",
      "60000/60000 [==============================] - 1s 17us/step - loss: 0.0852 - acc: 0.2354\n",
      "Epoch 16/20\n",
      "60000/60000 [==============================] - 1s 16us/step - loss: 0.0847 - acc: 0.2390\n",
      "Epoch 17/20\n",
      "60000/60000 [==============================] - 1s 15us/step - loss: 0.0841 - acc: 0.2487\n",
      "Epoch 18/20\n",
      "60000/60000 [==============================] - 1s 15us/step - loss: 0.0834 - acc: 0.2568\n",
      "Epoch 19/20\n",
      "60000/60000 [==============================] - 1s 15us/step - loss: 0.0827 - acc: 0.2618\n",
      "Epoch 20/20\n",
      "60000/60000 [==============================] - 1s 16us/step - loss: 0.0820 - acc: 0.2659\n"
     ]
    },
    {
     "data": {
      "text/plain": [
       "<keras.callbacks.History at 0x4d22781828>"
      ]
     },
     "execution_count": 9,
     "metadata": {},
     "output_type": "execute_result"
    }
   ],
   "source": [
    "model2.fit(x_train, y_train, batch_size=100, epochs=20) #batch_size代表看完100筆資料，就調一次參數"
   ]
  },
  {
   "cell_type": "markdown",
   "metadata": {},
   "source": [
    "<font size=4 color=red>試著更改層數看看</font>"
   ]
  },
  {
   "cell_type": "code",
   "execution_count": 10,
   "metadata": {},
   "outputs": [
    {
     "name": "stdout",
     "output_type": "stream",
     "text": [
      "_________________________________________________________________\n",
      "Layer (type)                 Output Shape              Param #   \n",
      "=================================================================\n",
      "dense_7 (Dense)              (None, 5)                 3925      \n",
      "_________________________________________________________________\n",
      "activation_7 (Activation)    (None, 5)                 0         \n",
      "_________________________________________________________________\n",
      "dense_8 (Dense)              (None, 7)                 42        \n",
      "_________________________________________________________________\n",
      "activation_8 (Activation)    (None, 7)                 0         \n",
      "_________________________________________________________________\n",
      "dense_9 (Dense)              (None, 11)                88        \n",
      "_________________________________________________________________\n",
      "activation_9 (Activation)    (None, 11)                0         \n",
      "_________________________________________________________________\n",
      "dense_10 (Dense)             (None, 10)                120       \n",
      "_________________________________________________________________\n",
      "activation_10 (Activation)   (None, 10)                0         \n",
      "=================================================================\n",
      "Total params: 4,175\n",
      "Trainable params: 4,175\n",
      "Non-trainable params: 0\n",
      "_________________________________________________________________\n"
     ]
    }
   ],
   "source": [
    "model3 = Sequential()\n",
    "model3.add(Dense(5, input_dim=784)) #第一層，有5個神經元，輸入域有784個\n",
    "model3.add(Activation('sigmoid'))\n",
    "model3.add(Dense(7)) #第二層，有7個神經元，輸入域有784個\n",
    "model3.add(Activation('sigmoid'))\n",
    "model3.add(Dense(11)) #第三層，有11個神經元，輸入域有784個\n",
    "model3.add(Activation('sigmoid'))\n",
    "model3.add(Dense(10)) #輸出層，有10維\n",
    "model3.add(Activation('softmax'))\n",
    "model3.compile(loss='mse', optimizer=SGD(lr=0.087), metrics=['accuracy']) #設定loss function，設定最佳化，設定顯示正確率\n",
    "model3.summary()"
   ]
  },
  {
   "cell_type": "code",
   "execution_count": 11,
   "metadata": {},
   "outputs": [
    {
     "name": "stdout",
     "output_type": "stream",
     "text": [
      "Epoch 1/20\n",
      "60000/60000 [==============================] - 1s 20us/step - loss: 0.0908 - acc: 0.1084\n",
      "Epoch 2/20\n",
      "60000/60000 [==============================] - 1s 16us/step - loss: 0.0904 - acc: 0.1124\n",
      "Epoch 3/20\n",
      "60000/60000 [==============================] - 1s 17us/step - loss: 0.0902 - acc: 0.1124\n",
      "Epoch 4/20\n",
      "60000/60000 [==============================] - 1s 16us/step - loss: 0.0901 - acc: 0.1124\n",
      "Epoch 5/20\n",
      "60000/60000 [==============================] - 1s 16us/step - loss: 0.0900 - acc: 0.1124\n",
      "Epoch 6/20\n",
      "60000/60000 [==============================] - 1s 16us/step - loss: 0.0900 - acc: 0.1124\n",
      "Epoch 7/20\n",
      "60000/60000 [==============================] - 1s 16us/step - loss: 0.0899 - acc: 0.1124\n",
      "Epoch 8/20\n",
      "60000/60000 [==============================] - 1s 17us/step - loss: 0.0899 - acc: 0.1124\n",
      "Epoch 9/20\n",
      "60000/60000 [==============================] - 1s 16us/step - loss: 0.0899 - acc: 0.1124\n",
      "Epoch 10/20\n",
      "60000/60000 [==============================] - 1s 16us/step - loss: 0.0898 - acc: 0.1124\n",
      "Epoch 11/20\n",
      "60000/60000 [==============================] - 1s 18us/step - loss: 0.0898 - acc: 0.1124\n",
      "Epoch 12/20\n",
      "60000/60000 [==============================] - 1s 16us/step - loss: 0.0898 - acc: 0.1124\n",
      "Epoch 13/20\n",
      "60000/60000 [==============================] - 1s 16us/step - loss: 0.0898 - acc: 0.1124\n",
      "Epoch 14/20\n",
      "60000/60000 [==============================] - 1s 16us/step - loss: 0.0898 - acc: 0.1124\n",
      "Epoch 15/20\n",
      "60000/60000 [==============================] - 1s 17us/step - loss: 0.0897 - acc: 0.1124\n",
      "Epoch 16/20\n",
      "60000/60000 [==============================] - 1s 16us/step - loss: 0.0897 - acc: 0.1124\n",
      "Epoch 17/20\n",
      "60000/60000 [==============================] - 1s 16us/step - loss: 0.0897 - acc: 0.1124\n",
      "Epoch 18/20\n",
      "60000/60000 [==============================] - 1s 17us/step - loss: 0.0897 - acc: 0.1124\n",
      "Epoch 19/20\n",
      "60000/60000 [==============================] - 1s 16us/step - loss: 0.0896 - acc: 0.1124\n",
      "Epoch 20/20\n",
      "60000/60000 [==============================] - 1s 17us/step - loss: 0.0896 - acc: 0.1124\n"
     ]
    },
    {
     "data": {
      "text/plain": [
       "<keras.callbacks.History at 0x4d22781470>"
      ]
     },
     "execution_count": 11,
     "metadata": {},
     "output_type": "execute_result"
    }
   ],
   "source": [
    "model3.fit(x_train, y_train, batch_size=100, epochs=20) #batch_size代表看完100筆資料，就調一次參數"
   ]
  },
  {
   "cell_type": "markdown",
   "metadata": {},
   "source": [
    "<font size=4 color=red>改用其他activation試試</font>"
   ]
  },
  {
   "cell_type": "code",
   "execution_count": 12,
   "metadata": {},
   "outputs": [
    {
     "name": "stdout",
     "output_type": "stream",
     "text": [
      "_________________________________________________________________\n",
      "Layer (type)                 Output Shape              Param #   \n",
      "=================================================================\n",
      "dense_11 (Dense)             (None, 5)                 3925      \n",
      "_________________________________________________________________\n",
      "activation_11 (Activation)   (None, 5)                 0         \n",
      "_________________________________________________________________\n",
      "dense_12 (Dense)             (None, 7)                 42        \n",
      "_________________________________________________________________\n",
      "activation_12 (Activation)   (None, 7)                 0         \n",
      "_________________________________________________________________\n",
      "dense_13 (Dense)             (None, 11)                88        \n",
      "_________________________________________________________________\n",
      "activation_13 (Activation)   (None, 11)                0         \n",
      "_________________________________________________________________\n",
      "dense_14 (Dense)             (None, 10)                120       \n",
      "_________________________________________________________________\n",
      "activation_14 (Activation)   (None, 10)                0         \n",
      "=================================================================\n",
      "Total params: 4,175\n",
      "Trainable params: 4,175\n",
      "Non-trainable params: 0\n",
      "_________________________________________________________________\n"
     ]
    }
   ],
   "source": [
    "model4 = Sequential()\n",
    "model4.add(Dense(5, input_dim=784)) #第一層，有5個神經元，輸入域有784個\n",
    "model4.add(Activation('tanh'))\n",
    "model4.add(Dense(7)) #第二層，有7個神經元，輸入域有784個\n",
    "model4.add(Activation('tanh'))\n",
    "model4.add(Dense(11)) #第三層，有11個神經元，輸入域有784個\n",
    "model4.add(Activation('tanh'))\n",
    "model4.add(Dense(10)) #輸出層，有10維\n",
    "model4.add(Activation('softmax'))\n",
    "model4.compile(loss='mse', optimizer=SGD(lr=0.087), metrics=['accuracy']) #設定loss function，設定最佳化，設定顯示正確率\n",
    "model4.summary()"
   ]
  },
  {
   "cell_type": "code",
   "execution_count": 13,
   "metadata": {},
   "outputs": [
    {
     "name": "stdout",
     "output_type": "stream",
     "text": [
      "Epoch 1/20\n",
      "60000/60000 [==============================] - 1s 21us/step - loss: 0.0874 - acc: 0.2192\n",
      "Epoch 2/20\n",
      "60000/60000 [==============================] - 1s 17us/step - loss: 0.0812 - acc: 0.3918\n",
      "Epoch 3/20\n",
      "60000/60000 [==============================] - 1s 16us/step - loss: 0.0750 - acc: 0.4460\n",
      "Epoch 4/20\n",
      "60000/60000 [==============================] - 1s 16us/step - loss: 0.0688 - acc: 0.5694\n",
      "Epoch 5/20\n",
      "60000/60000 [==============================] - 1s 16us/step - loss: 0.0630 - acc: 0.6002\n",
      "Epoch 6/20\n",
      "60000/60000 [==============================] - 1s 19us/step - loss: 0.0590 - acc: 0.5935\n",
      "Epoch 7/20\n",
      "60000/60000 [==============================] - 1s 18us/step - loss: 0.0572 - acc: 0.5894\n",
      "Epoch 8/20\n",
      "60000/60000 [==============================] - 1s 17us/step - loss: 0.0544 - acc: 0.6414\n",
      "Epoch 9/20\n",
      "60000/60000 [==============================] - 1s 16us/step - loss: 0.0529 - acc: 0.6526\n",
      "Epoch 10/20\n",
      "60000/60000 [==============================] - 1s 16us/step - loss: 0.0504 - acc: 0.6727\n",
      "Epoch 11/20\n",
      "60000/60000 [==============================] - 1s 17us/step - loss: 0.0502 - acc: 0.6653\n",
      "Epoch 12/20\n",
      "60000/60000 [==============================] - 1s 17us/step - loss: 0.0487 - acc: 0.6761\n",
      "Epoch 13/20\n",
      "60000/60000 [==============================] - 1s 16us/step - loss: 0.0480 - acc: 0.6714\n",
      "Epoch 14/20\n",
      "60000/60000 [==============================] - 1s 17us/step - loss: 0.0462 - acc: 0.6939\n",
      "Epoch 15/20\n",
      "60000/60000 [==============================] - 1s 17us/step - loss: 0.0466 - acc: 0.6879\n",
      "Epoch 16/20\n",
      "60000/60000 [==============================] - 1s 18us/step - loss: 0.0462 - acc: 0.6905\n",
      "Epoch 17/20\n",
      "60000/60000 [==============================] - 1s 20us/step - loss: 0.0475 - acc: 0.6780\n",
      "Epoch 18/20\n",
      "60000/60000 [==============================] - 1s 19us/step - loss: 0.0457 - acc: 0.6883\n",
      "Epoch 19/20\n",
      "60000/60000 [==============================] - 1s 19us/step - loss: 0.0445 - acc: 0.7002\n",
      "Epoch 20/20\n",
      "60000/60000 [==============================] - 1s 19us/step - loss: 0.0442 - acc: 0.6972\n"
     ]
    },
    {
     "data": {
      "text/plain": [
       "<keras.callbacks.History at 0x4d28b20710>"
      ]
     },
     "execution_count": 13,
     "metadata": {},
     "output_type": "execute_result"
    }
   ],
   "source": [
    "model4.fit(x_train, y_train, batch_size=100, epochs=20) #batch_size代表看完100筆資料，就調一次參數"
   ]
  },
  {
   "cell_type": "markdown",
   "metadata": {},
   "source": [
    "<font size=4 color=red>試著加大神經元數量試試</font>"
   ]
  },
  {
   "cell_type": "code",
   "execution_count": 14,
   "metadata": {},
   "outputs": [
    {
     "name": "stdout",
     "output_type": "stream",
     "text": [
      "_________________________________________________________________\n",
      "Layer (type)                 Output Shape              Param #   \n",
      "=================================================================\n",
      "dense_15 (Dense)             (None, 79)                62015     \n",
      "_________________________________________________________________\n",
      "activation_15 (Activation)   (None, 79)                0         \n",
      "_________________________________________________________________\n",
      "dense_16 (Dense)             (None, 51)                4080      \n",
      "_________________________________________________________________\n",
      "activation_16 (Activation)   (None, 51)                0         \n",
      "_________________________________________________________________\n",
      "dense_17 (Dense)             (None, 67)                3484      \n",
      "_________________________________________________________________\n",
      "activation_17 (Activation)   (None, 67)                0         \n",
      "_________________________________________________________________\n",
      "dense_18 (Dense)             (None, 10)                680       \n",
      "_________________________________________________________________\n",
      "activation_18 (Activation)   (None, 10)                0         \n",
      "=================================================================\n",
      "Total params: 70,259\n",
      "Trainable params: 70,259\n",
      "Non-trainable params: 0\n",
      "_________________________________________________________________\n"
     ]
    }
   ],
   "source": [
    "model5 = Sequential()\n",
    "model5.add(Dense(79, input_dim=784)) #第一層，有79個神經元，輸入域有784個\n",
    "model5.add(Activation('tanh'))\n",
    "model5.add(Dense(51)) #第二層，有51個神經元，輸入域有784個\n",
    "model5.add(Activation('tanh'))\n",
    "model5.add(Dense(67)) #第三層，有67個神經元，輸入域有784個\n",
    "model5.add(Activation('tanh'))\n",
    "model5.add(Dense(10)) #輸出層，有10維\n",
    "model5.add(Activation('softmax'))\n",
    "model5.compile(loss='mse', optimizer=SGD(lr=0.087), metrics=['accuracy']) #設定loss function，設定最佳化，設定顯示正確率\n",
    "model5.summary()"
   ]
  },
  {
   "cell_type": "code",
   "execution_count": 15,
   "metadata": {},
   "outputs": [
    {
     "name": "stdout",
     "output_type": "stream",
     "text": [
      "Epoch 1/20\n",
      "60000/60000 [==============================] - 2s 32us/step - loss: 0.0622 - acc: 0.5508\n",
      "Epoch 2/20\n",
      "60000/60000 [==============================] - 1s 23us/step - loss: 0.0325 - acc: 0.8050\n",
      "Epoch 3/20\n",
      "60000/60000 [==============================] - 1s 25us/step - loss: 0.0236 - acc: 0.8573\n",
      "Epoch 4/20\n",
      "60000/60000 [==============================] - 2s 30us/step - loss: 0.0199 - acc: 0.8771\n",
      "Epoch 5/20\n",
      "60000/60000 [==============================] - 1s 24us/step - loss: 0.0180 - acc: 0.8864\n",
      "Epoch 6/20\n",
      "60000/60000 [==============================] - 1s 24us/step - loss: 0.0167 - acc: 0.8942\n",
      "Epoch 7/20\n",
      "60000/60000 [==============================] - 1s 24us/step - loss: 0.0157 - acc: 0.8993\n",
      "Epoch 8/20\n",
      "60000/60000 [==============================] - 1s 25us/step - loss: 0.0152 - acc: 0.9036\n",
      "Epoch 9/20\n",
      "60000/60000 [==============================] - 2s 26us/step - loss: 0.0141 - acc: 0.9089\n",
      "Epoch 10/20\n",
      "60000/60000 [==============================] - 2s 25us/step - loss: 0.0140 - acc: 0.9099\n",
      "Epoch 11/20\n",
      "60000/60000 [==============================] - 2s 25us/step - loss: 0.0135 - acc: 0.9135\n",
      "Epoch 12/20\n",
      "60000/60000 [==============================] - 1s 24us/step - loss: 0.0129 - acc: 0.9156\n",
      "Epoch 13/20\n",
      "60000/60000 [==============================] - 2s 30us/step - loss: 0.0125 - acc: 0.9193\n",
      "Epoch 14/20\n",
      "60000/60000 [==============================] - 1s 24us/step - loss: 0.0129 - acc: 0.9164\n",
      "Epoch 15/20\n",
      "60000/60000 [==============================] - 1s 25us/step - loss: 0.0125 - acc: 0.9185\n",
      "Epoch 16/20\n",
      "60000/60000 [==============================] - 1s 24us/step - loss: 0.0120 - acc: 0.9227\n",
      "Epoch 17/20\n",
      "60000/60000 [==============================] - 2s 26us/step - loss: 0.0120 - acc: 0.9229\n",
      "Epoch 18/20\n",
      "60000/60000 [==============================] - 2s 26us/step - loss: 0.0115 - acc: 0.9262\n",
      "Epoch 19/20\n",
      "60000/60000 [==============================] - 2s 25us/step - loss: 0.0113 - acc: 0.9265\n",
      "Epoch 20/20\n",
      "60000/60000 [==============================] - 2s 28us/step - loss: 0.0110 - acc: 0.9287\n"
     ]
    },
    {
     "data": {
      "text/plain": [
       "<keras.callbacks.History at 0x4d28db9c18>"
      ]
     },
     "execution_count": 15,
     "metadata": {},
     "output_type": "execute_result"
    }
   ],
   "source": [
    "model5.fit(x_train, y_train, batch_size=100, epochs=20) #batch_size代表看完100筆資料，就調一次參數"
   ]
  },
  {
   "cell_type": "markdown",
   "metadata": {},
   "source": [
    "<font size=4 color=red>再改回兩層試試</font>"
   ]
  },
  {
   "cell_type": "code",
   "execution_count": 16,
   "metadata": {},
   "outputs": [
    {
     "name": "stdout",
     "output_type": "stream",
     "text": [
      "_________________________________________________________________\n",
      "Layer (type)                 Output Shape              Param #   \n",
      "=================================================================\n",
      "dense_19 (Dense)             (None, 79)                62015     \n",
      "_________________________________________________________________\n",
      "activation_19 (Activation)   (None, 79)                0         \n",
      "_________________________________________________________________\n",
      "dense_20 (Dense)             (None, 51)                4080      \n",
      "_________________________________________________________________\n",
      "activation_20 (Activation)   (None, 51)                0         \n",
      "_________________________________________________________________\n",
      "dense_21 (Dense)             (None, 10)                520       \n",
      "_________________________________________________________________\n",
      "activation_21 (Activation)   (None, 10)                0         \n",
      "=================================================================\n",
      "Total params: 66,615\n",
      "Trainable params: 66,615\n",
      "Non-trainable params: 0\n",
      "_________________________________________________________________\n"
     ]
    }
   ],
   "source": [
    "model6 = Sequential()\n",
    "model6.add(Dense(79, input_dim=784)) #第一層，有79個神經元，輸入域有784個\n",
    "model6.add(Activation('tanh'))\n",
    "model6.add(Dense(51)) #第二層，有51個神經元，輸入域有784個\n",
    "model6.add(Activation('tanh'))\n",
    "model6.add(Dense(10)) #輸出層，有10維\n",
    "model6.add(Activation('softmax'))\n",
    "model6.compile(loss='mse', optimizer=SGD(lr=0.087), metrics=['accuracy']) #設定loss function，設定最佳化，設定顯示正確率\n",
    "model6.summary()"
   ]
  },
  {
   "cell_type": "code",
   "execution_count": 17,
   "metadata": {},
   "outputs": [
    {
     "name": "stdout",
     "output_type": "stream",
     "text": [
      "Epoch 1/20\n",
      "60000/60000 [==============================] - 2s 32us/step - loss: 0.0575 - acc: 0.5733\n",
      "Epoch 2/20\n",
      "60000/60000 [==============================] - 1s 23us/step - loss: 0.0296 - acc: 0.8195\n",
      "Epoch 3/20\n",
      "60000/60000 [==============================] - 2s 26us/step - loss: 0.0223 - acc: 0.8656\n",
      "Epoch 4/20\n",
      "60000/60000 [==============================] - 1s 25us/step - loss: 0.0193 - acc: 0.8804\n",
      "Epoch 5/20\n",
      "60000/60000 [==============================] - 1s 23us/step - loss: 0.0175 - acc: 0.8917\n",
      "Epoch 6/20\n",
      "60000/60000 [==============================] - 1s 23us/step - loss: 0.0162 - acc: 0.8985\n",
      "Epoch 7/20\n",
      "60000/60000 [==============================] - 1s 23us/step - loss: 0.0154 - acc: 0.9017\n",
      "Epoch 8/20\n",
      "60000/60000 [==============================] - 2s 25us/step - loss: 0.0147 - acc: 0.9064: 0s - loss: 0.0148 - acc: \n",
      "Epoch 9/20\n",
      "60000/60000 [==============================] - 2s 28us/step - loss: 0.0138 - acc: 0.9129\n",
      "Epoch 10/20\n",
      "60000/60000 [==============================] - 2s 27us/step - loss: 0.0133 - acc: 0.9144\n",
      "Epoch 11/20\n",
      "60000/60000 [==============================] - 2s 25us/step - loss: 0.0131 - acc: 0.9181\n",
      "Epoch 12/20\n",
      "60000/60000 [==============================] - 2s 26us/step - loss: 0.0125 - acc: 0.9218\n",
      "Epoch 13/20\n",
      "60000/60000 [==============================] - 1s 23us/step - loss: 0.0123 - acc: 0.9220\n",
      "Epoch 14/20\n",
      "60000/60000 [==============================] - 1s 24us/step - loss: 0.0123 - acc: 0.9225\n",
      "Epoch 15/20\n",
      "60000/60000 [==============================] - 1s 24us/step - loss: 0.0119 - acc: 0.9240\n",
      "Epoch 16/20\n",
      "60000/60000 [==============================] - 1s 24us/step - loss: 0.0114 - acc: 0.9267\n",
      "Epoch 17/20\n",
      "60000/60000 [==============================] - 1s 24us/step - loss: 0.0113 - acc: 0.9279\n",
      "Epoch 18/20\n",
      "60000/60000 [==============================] - 1s 24us/step - loss: 0.0114 - acc: 0.9279\n",
      "Epoch 19/20\n",
      "60000/60000 [==============================] - 1s 24us/step - loss: 0.0109 - acc: 0.9302\n",
      "Epoch 20/20\n",
      "60000/60000 [==============================] - 1s 24us/step - loss: 0.0107 - acc: 0.9313\n"
     ]
    },
    {
     "data": {
      "text/plain": [
       "<keras.callbacks.History at 0x4d29056c50>"
      ]
     },
     "execution_count": 17,
     "metadata": {},
     "output_type": "execute_result"
    }
   ],
   "source": [
    "model6.fit(x_train, y_train, batch_size=100, epochs=20) #batch_size代表看完100筆資料，就調一次參數"
   ]
  },
  {
   "cell_type": "code",
   "execution_count": 18,
   "metadata": {},
   "outputs": [],
   "source": [
    "from ipywidgets import interact_manual\n",
    "predict = model6.predict_classes(x_test)\n",
    "def test(測試編號):\n",
    "    plt.imshow(x_test[測試編號].reshape(28, 28), cmap='Greys')\n",
    "    print('神經網路判斷為：', predict[測試編號])"
   ]
  },
  {
   "cell_type": "code",
   "execution_count": 19,
   "metadata": {},
   "outputs": [
    {
     "name": "stdout",
     "output_type": "stream",
     "text": [
      "神經網路判斷為： 3\n"
     ]
    },
    {
     "data": {
      "image/png": "[encoded data removed]",
      "text/plain": [
       "<Figure size 432x288 with 1 Axes>"
      ]
     },
     "metadata": {},
     "output_type": "display_data"
    }
   ],
   "source": [
    "test(87)"
   ]
  },
  {
   "cell_type": "code",
   "execution_count": 20,
   "metadata": {},
   "outputs": [
    {
     "name": "stdout",
     "output_type": "stream",
     "text": [
      "10000/10000 [==============================] - 0s 39us/step\n",
      "loss: 0.0106567129388\n",
      "正確率 0.9302\n"
     ]
    }
   ],
   "source": [
    "score = model6.evaluate(x_test, y_test)\n",
    "print('loss:', score[0])\n",
    "print('正確率', score[1])"
   ]
  },
  {
   "cell_type": "markdown",
   "metadata": {},
   "source": [
    "<font size=4 color=red>結論：加大神經元數量、改用其他activation function最有效<br>\n",
    "用兩層還是三層，對提升正確率並無幫助</font>"
   ]
  },
  {
   "cell_type": "code",
   "execution_count": null,
   "metadata": {},
   "outputs": [],
   "source": []
  }
 ],
 "metadata": {
  "kernelspec": {
   "display_name": "Python 3",
   "language": "python",
   "name": "python3"
  },
  "language_info": {
   "codemirror_mode": {
    "name": "ipython",
    "version": 3
   },
   "file_extension": ".py",
   "mimetype": "text/x-python",
   "name": "python",
   "nbconvert_exporter": "python",
   "pygments_lexer": "ipython3",
   "version": "3.6.5"
  }
 },
 "nbformat": 4,
 "nbformat_minor": 2
}
