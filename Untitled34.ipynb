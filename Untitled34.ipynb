{
 "cells": [
  {
   "cell_type": "code",
   "execution_count": 1,
   "metadata": {},
   "outputs": [],
   "source": [
    "#製作自己CIFAR10數據集\n",
    "from PIL import Image\n",
    "import numpy as np\n",
    "import os"
   ]
  },
  {
   "cell_type": "code",
   "execution_count": 2,
   "metadata": {},
   "outputs": [],
   "source": [
    "im_dir = './picdata' #圖片儲存位址\n",
    "im_type = 0 #0分類代表正常圖片，1分類代表要測試的圖片\n",
    "type_dict = {0 : 'normal', 1 : 'porn'}\n",
    "my_data_dict = {}"
   ]
  },
  {
   "cell_type": "code",
   "execution_count": 3,
   "metadata": {},
   "outputs": [
    {
     "name": "stdout",
     "output_type": "stream",
     "text": [
      "{'data': array([[195, 201, 215, ..., 153, 187, 175],\n",
      "       [255, 255, 255, ..., 255, 255, 255],\n",
      "       [255, 255, 255, ..., 135, 148, 140],\n",
      "       ..., \n",
      "       [ 23,  26,  23, ...,  22,  23,  36],\n",
      "       [135, 149, 162, ...,  46,  34,  38],\n",
      "       [240, 196,  63, ...,  70,  65,  51]], dtype=uint8), 'labels': [0, 0, 0, 0, 1, 1, 1, 1], 'batch_label': 'training batch 0 of 1', 'filenames': ['baby.jpg', 'chicken.jpg', 'dog.jpg', 'Ufa.jpeg', 'IMG- (15).jpg', 'IMG- (41).jpg', 'IMG- (7).jpg', 'IMG- (8).jpg']}\n"
     ]
    }
   ],
   "source": [
    "for i in range(len(type_dict)):\n",
    "    im_path = os.path.join(im_dir, str(im_type)) #分類0的圖片都存在0的子資料夾，同理1也是\n",
    "    im_list = os.listdir(im_path)\n",
    "    for im_name in im_list:\n",
    "        if ((im_list.index(im_name) == 0)and(i == 0)):\n",
    "            mix_rgb = []\n",
    "            im_path2 = os.path.join(im_path, im_name)\n",
    "            img = Image.open(im_path2, 'r')\n",
    "            img = img.resize((32, 32))\n",
    "            r,g,b = img.split()\n",
    "            mix_rgb = np.hstack((np.array(r).reshape(1, -1), np.array(g).reshape(1, -1), np.array(b).reshape(1, -1)))\n",
    "            my_data_dict = {'data': mix_rgb, 'labels': [im_type], 'batch_label': 'training batch 0 of 1', 'filenames': [im_name]}\n",
    "        else:\n",
    "            mix_rgb = []\n",
    "            im_path2 = os.path.join(im_path, im_name)\n",
    "            img = Image.open(im_path2, 'r')\n",
    "            img = img.resize((32, 32))\n",
    "            r,g,b = img.split()\n",
    "            mix_rgb = np.hstack((np.array(r).reshape(1, -1), np.array(g).reshape(1, -1), np.array(b).reshape(1, -1)))\n",
    "            my_data_dict['data'] = np.vstack((my_data_dict['data'], mix_rgb))\n",
    "            my_data_dict['labels'].append(im_type)\n",
    "            my_data_dict['filenames'].append(im_name)\n",
    "    im_type = im_type + 1\n",
    "print(my_data_dict)"
   ]
  },
  {
   "cell_type": "code",
   "execution_count": 4,
   "metadata": {},
   "outputs": [],
   "source": [
    "#可將CIFAR10數據集中特定圖片解碼出來的程式\n",
    "import cv2\n",
    "import matplotlib.pyplot as plt\n",
    "\n",
    "def unpickle(datafile):\n",
    "    import pickle\n",
    "    with open('./picdata'+datafile,'rb') as fo:\n",
    "        dict = pickle.load(fo, encoding='latin1')\n",
    "    return dict\n",
    "\n",
    "data1 = unpickle('data_batch_1')\n",
    "egg = 1 #要讀取第幾個圖片\n",
    "\n",
    "X1 = data1['data']\n",
    "label1 = data1['labels']"
   ]
  },
  {
   "cell_type": "code",
   "execution_count": 5,
   "metadata": {},
   "outputs": [],
   "source": [
    "X1 = np.array(X1)\n",
    "new1 = X1.reshape(-1,3,32,32)"
   ]
  },
  {
   "cell_type": "code",
   "execution_count": 6,
   "metadata": {},
   "outputs": [],
   "source": [
    "r = new1[egg][0]\n",
    "g = new1[egg][1]\n",
    "b = new1[egg][2]"
   ]
  },
  {
   "cell_type": "code",
   "execution_count": 7,
   "metadata": {},
   "outputs": [],
   "source": [
    "pic = cv2.merge([b,g,r])"
   ]
  },
  {
   "cell_type": "code",
   "execution_count": 8,
   "metadata": {},
   "outputs": [],
   "source": [
    "cv2.imshow(\"merged 1\", pic)\n",
    "\n",
    "cv2.waitKey(0)\n",
    "cv2.destroyAllWindows()"
   ]
  },
  {
   "cell_type": "code",
   "execution_count": null,
   "metadata": {},
   "outputs": [],
   "source": []
  }
 ],
 "metadata": {
  "kernelspec": {
   "display_name": "Python 3",
   "language": "python",
   "name": "python3"
  },
  "language_info": {
   "codemirror_mode": {
    "name": "ipython",
    "version": 3
   },
   "file_extension": ".py",
   "mimetype": "text/x-python",
   "name": "python",
   "nbconvert_exporter": "python",
   "pygments_lexer": "ipython3",
   "version": "3.6.5"
  }
 },
 "nbformat": 4,
 "nbformat_minor": 2
}
