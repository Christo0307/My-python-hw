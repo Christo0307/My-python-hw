{
 "cells": [
  {
   "cell_type": "code",
   "execution_count": 1,
   "metadata": {},
   "outputs": [
    {
     "name": "stdout",
     "output_type": "stream",
     "text": [
      "env: KERAS_BACKEND=tensorflow\n"
     ]
    }
   ],
   "source": [
    "#RNN作業\n",
    "%env KERAS_BACKEND=tensorflow\n",
    "%matplotlib inline\n",
    "import numpy as np\n",
    "import matplotlib.pyplot as plt"
   ]
  },
  {
   "cell_type": "code",
   "execution_count": 2,
   "metadata": {},
   "outputs": [
    {
     "name": "stderr",
     "output_type": "stream",
     "text": [
      "Using TensorFlow backend.\n"
     ]
    }
   ],
   "source": [
    "from keras.datasets import imdb"
   ]
  },
  {
   "cell_type": "code",
   "execution_count": 3,
   "metadata": {},
   "outputs": [],
   "source": [
    "(x_train, y_train), (x_test, y_test) = imdb.load_data(num_words=10000) #讀入10000字"
   ]
  },
  {
   "cell_type": "code",
   "execution_count": 4,
   "metadata": {},
   "outputs": [
    {
     "name": "stdout",
     "output_type": "stream",
     "text": [
      "訓練總筆數： 25000\n",
      "測試總筆數： 25000\n"
     ]
    }
   ],
   "source": [
    "print('訓練總筆數：', len(x_train))\n",
    "print('測試總筆數：', len(x_test))"
   ]
  },
  {
   "cell_type": "code",
   "execution_count": 5,
   "metadata": {},
   "outputs": [],
   "source": [
    "from keras.preprocessing import sequence"
   ]
  },
  {
   "cell_type": "code",
   "execution_count": 6,
   "metadata": {},
   "outputs": [],
   "source": [
    "x_train = sequence.pad_sequences(x_train, maxlen=150)\n",
    "x_test = sequence.pad_sequences(x_test, maxlen=150)"
   ]
  },
  {
   "cell_type": "code",
   "execution_count": 7,
   "metadata": {},
   "outputs": [],
   "source": [
    "N = 100\n",
    "K = 100"
   ]
  },
  {
   "cell_type": "code",
   "execution_count": 8,
   "metadata": {},
   "outputs": [],
   "source": [
    "from keras.models import Sequential\n",
    "from keras.layers import Dense, Embedding, Dropout\n",
    "from keras.layers import LSTM"
   ]
  },
  {
   "cell_type": "code",
   "execution_count": 9,
   "metadata": {},
   "outputs": [],
   "source": [
    "model = Sequential()"
   ]
  },
  {
   "cell_type": "code",
   "execution_count": 10,
   "metadata": {},
   "outputs": [],
   "source": [
    "model.add(Embedding(10000, N))"
   ]
  },
  {
   "cell_type": "code",
   "execution_count": 11,
   "metadata": {},
   "outputs": [],
   "source": [
    "model.add(LSTM(K))"
   ]
  },
  {
   "cell_type": "code",
   "execution_count": 12,
   "metadata": {},
   "outputs": [],
   "source": [
    "model.add(Dense(1, activation='sigmoid'))"
   ]
  },
  {
   "cell_type": "code",
   "execution_count": 13,
   "metadata": {},
   "outputs": [],
   "source": [
    "model.compile(loss='binary_crossentropy', optimizer='adam', metrics=['accuracy'])"
   ]
  },
  {
   "cell_type": "code",
   "execution_count": 14,
   "metadata": {},
   "outputs": [
    {
     "name": "stdout",
     "output_type": "stream",
     "text": [
      "_________________________________________________________________\n",
      "Layer (type)                 Output Shape              Param #   \n",
      "=================================================================\n",
      "embedding_1 (Embedding)      (None, None, 100)         1000000   \n",
      "_________________________________________________________________\n",
      "lstm_1 (LSTM)                (None, 100)               80400     \n",
      "_________________________________________________________________\n",
      "dense_1 (Dense)              (None, 1)                 101       \n",
      "=================================================================\n",
      "Total params: 1,080,501\n",
      "Trainable params: 1,080,501\n",
      "Non-trainable params: 0\n",
      "_________________________________________________________________\n"
     ]
    }
   ],
   "source": [
    "model.summary()"
   ]
  },
  {
   "cell_type": "code",
   "execution_count": 15,
   "metadata": {},
   "outputs": [
    {
     "name": "stdout",
     "output_type": "stream",
     "text": [
      "Epoch 1/15\n",
      "25000/25000 [==============================] - 383s 15ms/step - loss: 0.4066 - acc: 0.8130\n",
      "Epoch 2/15\n",
      "25000/25000 [==============================] - 380s 15ms/step - loss: 0.2536 - acc: 0.9016\n",
      "Epoch 3/15\n",
      "25000/25000 [==============================] - 375s 15ms/step - loss: 0.1804 - acc: 0.9326\n",
      "Epoch 4/15\n",
      "25000/25000 [==============================] - 366s 15ms/step - loss: 0.1387 - acc: 0.9501\n",
      "Epoch 5/15\n",
      "25000/25000 [==============================] - 365s 15ms/step - loss: 0.1096 - acc: 0.9620\n",
      "Epoch 6/15\n",
      "25000/25000 [==============================] - 366s 15ms/step - loss: 0.0754 - acc: 0.9747\n",
      "Epoch 7/15\n",
      "25000/25000 [==============================] - 366s 15ms/step - loss: 0.0486 - acc: 0.9844\n",
      "Epoch 8/15\n",
      "25000/25000 [==============================] - 366s 15ms/step - loss: 0.0556 - acc: 0.9814\n",
      "Epoch 9/15\n",
      "25000/25000 [==============================] - 366s 15ms/step - loss: 0.0429 - acc: 0.9857\n",
      "Epoch 10/15\n",
      "25000/25000 [==============================] - 366s 15ms/step - loss: 0.0277 - acc: 0.9913\n",
      "Epoch 11/15\n",
      "25000/25000 [==============================] - 366s 15ms/step - loss: 0.0236 - acc: 0.9926\n",
      "Epoch 12/15\n",
      "25000/25000 [==============================] - 366s 15ms/step - loss: 0.0196 - acc: 0.9947\n",
      "Epoch 13/15\n",
      "25000/25000 [==============================] - 366s 15ms/step - loss: 0.0262 - acc: 0.9919\n",
      "Epoch 14/15\n",
      "25000/25000 [==============================] - 367s 15ms/step - loss: 0.0162 - acc: 0.9950\n",
      "Epoch 15/15\n",
      "25000/25000 [==============================] - 366s 15ms/step - loss: 0.0114 - acc: 0.9968\n"
     ]
    }
   ],
   "source": [
    "mhis = model.fit(x_train, y_train, epochs=15)"
   ]
  },
  {
   "cell_type": "code",
   "execution_count": 16,
   "metadata": {},
   "outputs": [
    {
     "name": "stdout",
     "output_type": "stream",
     "text": [
      "25000/25000 [==============================] - 79s 3ms/step\n",
      "\n"
     ]
    }
   ],
   "source": [
    "score = model.evaluate(x_train, y_train)\n",
    "print()"
   ]
  },
  {
   "cell_type": "code",
   "execution_count": 17,
   "metadata": {},
   "outputs": [
    {
     "data": {
      "image/png": "[encoded data removed]",
      "text/plain": [
       "<Figure size 432x288 with 1 Axes>"
      ]
     },
     "metadata": {},
     "output_type": "display_data"
    }
   ],
   "source": [
    "plt.plot(mhis.history[\"acc\"])\n",
    "plt.title(\"Model Training Accuracy\")\n",
    "plt.ylabel(\"Accuracy\")\n",
    "plt.xlabel(\"Epoch\")\n",
    "plt.show()"
   ]
  },
  {
   "cell_type": "code",
   "execution_count": null,
   "metadata": {},
   "outputs": [],
   "source": []
  }
 ],
 "metadata": {
  "kernelspec": {
   "display_name": "Python 3",
   "language": "python",
   "name": "python3"
  },
  "language_info": {
   "codemirror_mode": {
    "name": "ipython",
    "version": 3
   },
   "file_extension": ".py",
   "mimetype": "text/x-python",
   "name": "python",
   "nbconvert_exporter": "python",
   "pygments_lexer": "ipython3",
   "version": "3.6.5"
  }
 },
 "nbformat": 4,
 "nbformat_minor": 2
}
